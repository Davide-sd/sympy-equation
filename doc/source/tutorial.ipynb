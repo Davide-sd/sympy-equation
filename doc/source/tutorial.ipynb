{
 "cells": [
  {
   "cell_type": "markdown",
   "id": "07feb33a-1934-486d-b241-2bff4448588d",
   "metadata": {},
   "source": [
    "# Tutorials"
   ]
  },
  {
   "cell_type": "code",
   "execution_count": 1,
   "id": "6471bb8c-f5c2-461e-9add-adc1c7c50a90",
   "metadata": {},
   "outputs": [],
   "source": [
    "from sympy import *\n",
    "from sympy_equation import Equation, Eqn, solve\n",
    "init_printing()"
   ]
  },
  {
   "cell_type": "markdown",
   "id": "2d3081d7-6f24-4d4b-a89e-2ab56fb074f0",
   "metadata": {},
   "source": [
    "Note that:\n",
    "\n",
    "1. ``Eqn`` is an alias for ``Equation``.\n",
    "2. the second line of code imports ``solve`` from ``sympy_equation``: this function is aware of objects of type ``Equation``. It is just a wrapper to SymPy's ``solve``."
   ]
  },
  {
   "cell_type": "markdown",
   "id": "7cc711eb-fc53-4b49-a53a-8c138bafbbec",
   "metadata": {},
   "source": [
    "## Defining equations"
   ]
  },
  {
   "cell_type": "code",
   "execution_count": 2,
   "id": "d4085bd0-2084-475a-b15b-90091c54aa53",
   "metadata": {},
   "outputs": [
    {
     "data": {
      "image/png": "[encoded data removed]",
      "text/latex": [
       "$\\displaystyle a = b + 1$"
      ],
      "text/plain": [
       "Equation(a, b + 1)"
      ]
     },
     "metadata": {},
     "output_type": "display_data"
    },
    {
     "data": {
      "image/png": "[encoded data removed]",
      "text/latex": [
       "$\\displaystyle c + 1 = d$"
      ],
      "text/plain": [
       "Equation(c + 1, d)"
      ]
     },
     "metadata": {},
     "output_type": "display_data"
    }
   ],
   "source": [
    "var(\"a:d\")\n",
    "e1 = Eqn(a, b + 1)\n",
    "e2 =@ c + 1 = d\n",
    "display(e1, e2)"
   ]
  },
  {
   "cell_type": "markdown",
   "id": "cbd2d3f5-afe3-4750-866b-64097c743c9f",
   "metadata": {},
   "source": [
    "The above cell created two equations:\n",
    "\n",
    "* ``e1`` was created by explicitly instanting the ``Equation`` class.\n",
    "* ``e2`` was created with the short syntax ``=@``. This symbol combination was chosen to avoid conflicts with reserved python symbols while minimizing impacts on syntax highlighting and autoformatting. The short syntax is only available on interactive shells (like IPython, Jupyter Notebook)."
   ]
  },
  {
   "cell_type": "markdown",
   "id": "5ab933c3-84f9-425c-99a1-b022e35525ae",
   "metadata": {},
   "source": [
    "## Mathematical operators\n",
    "\n",
    "Objects of type ``Equation`` supports the following mathematical operations:"
   ]
  },
  {
   "cell_type": "code",
   "execution_count": 3,
   "id": "1f141a00-ae1f-4da0-875a-301f38c004a6",
   "metadata": {},
   "outputs": [
    {
     "data": {
      "image/png": "[encoded data removed]",
      "text/latex": [
       "$\\displaystyle a + c + 1 = b + d + 1$"
      ],
      "text/plain": [
       "Equation(a + c + 1, b + d + 1)"
      ]
     },
     "execution_count": 3,
     "metadata": {},
     "output_type": "execute_result"
    }
   ],
   "source": [
    "e1 + e2"
   ]
  },
  {
   "cell_type": "code",
   "execution_count": 4,
   "id": "faba88d8-fecd-4119-8973-52da52d8c99b",
   "metadata": {},
   "outputs": [
    {
     "data": {
      "image/png": "[encoded data removed]",
      "text/latex": [
       "$\\displaystyle a - c - 1 = b - d + 1$"
      ],
      "text/plain": [
       "Equation(a - c - 1, b - d + 1)"
      ]
     },
     "execution_count": 4,
     "metadata": {},
     "output_type": "execute_result"
    }
   ],
   "source": [
    "e1 - e2"
   ]
  },
  {
   "cell_type": "code",
   "execution_count": 5,
   "id": "39637072-e21c-43f5-a2da-8e638184b590",
   "metadata": {},
   "outputs": [
    {
     "data": {
      "image/png": "[encoded data removed]",
      "text/latex": [
       "$\\displaystyle a \\left(c + 1\\right) = d \\left(b + 1\\right)$"
      ],
      "text/plain": [
       "Equation(a*(c + 1), d*(b + 1))"
      ]
     },
     "execution_count": 5,
     "metadata": {},
     "output_type": "execute_result"
    }
   ],
   "source": [
    "e1 * e2"
   ]
  },
  {
   "cell_type": "code",
   "execution_count": 6,
   "id": "24ccd829-a1fa-4ffb-b33e-28966461e5eb",
   "metadata": {},
   "outputs": [
    {
     "data": {
      "image/png": "[encoded data removed]",
      "text/latex": [
       "$\\displaystyle \\frac{a}{c + 1} = \\frac{b + 1}{d}$"
      ],
      "text/plain": [
       "Equation(a/(c + 1), (b + 1)/d)"
      ]
     },
     "execution_count": 6,
     "metadata": {},
     "output_type": "execute_result"
    }
   ],
   "source": [
    "e1 / e2"
   ]
  },
  {
   "cell_type": "code",
   "execution_count": 7,
   "id": "e4a6ca10-1d69-4ccd-891d-2b8c938746ca",
   "metadata": {},
   "outputs": [
    {
     "data": {
      "image/png": "[encoded data removed]",
      "text/latex": [
       "$\\displaystyle a^{2} = \\left(b + 1\\right)^{2}$"
      ],
      "text/plain": [
       "Equation(a**2, (b + 1)**2)"
      ]
     },
     "execution_count": 7,
     "metadata": {},
     "output_type": "execute_result"
    }
   ],
   "source": [
    "e1**2"
   ]
  },
  {
   "cell_type": "code",
   "execution_count": 8,
   "id": "1bf7c6c4-4047-46de-af09-9ff1d7e45f8f",
   "metadata": {},
   "outputs": [
    {
     "data": {
      "image/png": "[encoded data removed]",
      "text/latex": [
       "$\\displaystyle 2^{a} = 2^{b + 1}$"
      ],
      "text/plain": [
       "Equation(2**a, 2**(b + 1))"
      ]
     },
     "execution_count": 8,
     "metadata": {},
     "output_type": "execute_result"
    }
   ],
   "source": [
    "2**e1"
   ]
  },
  {
   "cell_type": "code",
   "execution_count": 9,
   "id": "75f1f901-559b-4cc1-b349-0ad1799cd95d",
   "metadata": {},
   "outputs": [
    {
     "data": {
      "image/png": "[encoded data removed]",
      "text/latex": [
       "$\\displaystyle a^{c + 1} = \\left(b + 1\\right)^{d}$"
      ],
      "text/plain": [
       "Equation(a**(c + 1), (b + 1)**d)"
      ]
     },
     "execution_count": 9,
     "metadata": {},
     "output_type": "execute_result"
    }
   ],
   "source": [
    "e1**e2"
   ]
  },
  {
   "cell_type": "markdown",
   "id": "412a4632-c7e1-48b5-b35a-5637d095d614",
   "metadata": {},
   "source": [
    "## Applying functions to Equation\n",
    "\n",
    "We can apply mathematical functions (or user defined functions) to an ``Equation`` (or to a particular side) with the following methods:\n",
    "\n",
    "* ``eq.apply(func, *args, **kwargs)``: apply to both side of the equation, where ``*args, **kwargs`` are additional positional and keyword arguments to the function.\n",
    "* ``eq.applylhs(func, *args, **kwargs)``: apply to the LHS of the equation.\n",
    "* ``eq.applyrhs(func, *args, **kwargs)``: apply to the RHS of the equation."
   ]
  },
  {
   "cell_type": "code",
   "execution_count": 10,
   "id": "dcef7a0a-4f51-4a01-b019-f326cc4b779a",
   "metadata": {},
   "outputs": [
    {
     "data": {
      "image/png": "[encoded data removed]",
      "text/latex": [
       "$\\displaystyle a = b + 1$"
      ],
      "text/plain": [
       "Equation(a, b + 1)"
      ]
     },
     "execution_count": 10,
     "metadata": {},
     "output_type": "execute_result"
    }
   ],
   "source": [
    "e1"
   ]
  },
  {
   "cell_type": "code",
   "execution_count": 11,
   "id": "1c09cfa1-3464-4718-b58a-5cc15a9548ea",
   "metadata": {},
   "outputs": [
    {
     "data": {
      "image/png": "[encoded data removed]",
      "text/latex": [
       "$\\displaystyle \\sin{\\left(a \\right)} = \\sin{\\left(b + 1 \\right)}$"
      ],
      "text/plain": [
       "Equation(sin(a), sin(b + 1))"
      ]
     },
     "execution_count": 11,
     "metadata": {},
     "output_type": "execute_result"
    }
   ],
   "source": [
    "e1.apply(sin)"
   ]
  },
  {
   "cell_type": "code",
   "execution_count": 12,
   "id": "4efede0b-95a5-4474-84be-92836d099a88",
   "metadata": {},
   "outputs": [
    {
     "data": {
      "image/png": "[encoded data removed]",
      "text/latex": [
       "$\\displaystyle \\sin{\\left(a \\right)} = b + 1$"
      ],
      "text/plain": [
       "Equation(sin(a), b + 1)"
      ]
     },
     "execution_count": 12,
     "metadata": {},
     "output_type": "execute_result"
    }
   ],
   "source": [
    "e1.applylhs(sin)"
   ]
  },
  {
   "cell_type": "code",
   "execution_count": 13,
   "id": "996934db-9287-4b85-9964-d1951ebcf945",
   "metadata": {},
   "outputs": [
    {
     "data": {
      "image/png": "[encoded data removed]",
      "text/latex": [
       "$\\displaystyle a = \\sin{\\left(b + 1 \\right)}$"
      ],
      "text/plain": [
       "Equation(a, sin(b + 1))"
      ]
     },
     "execution_count": 13,
     "metadata": {},
     "output_type": "execute_result"
    }
   ],
   "source": [
    "e1.applyrhs(sin)"
   ]
  },
  {
   "cell_type": "code",
   "execution_count": 14,
   "id": "aa98606f-058a-48b0-bb1a-ca99b641231f",
   "metadata": {},
   "outputs": [
    {
     "data": {
      "image/png": "[encoded data removed]",
      "text/latex": [
       "$\\displaystyle a = \\frac{b}{c}$"
      ],
      "text/plain": [
       "Equation(a, b/c)"
      ]
     },
     "execution_count": 14,
     "metadata": {},
     "output_type": "execute_result"
    }
   ],
   "source": [
    "eq3 = Eqn(a, b / c)\n",
    "eq3"
   ]
  },
  {
   "cell_type": "markdown",
   "id": "99d80506-ee64-4740-ae9a-5b2d98b65244",
   "metadata": {},
   "source": [
    "Compute the first cubic root:"
   ]
  },
  {
   "cell_type": "code",
   "execution_count": 15,
   "id": "813d8300-0175-465f-ae28-d1fef16831b1",
   "metadata": {},
   "outputs": [
    {
     "data": {
      "image/png": "[encoded data removed]",
      "text/latex": [
       "$\\displaystyle \\sqrt[3]{a} = \\sqrt[3]{\\frac{b}{c}}$"
      ],
      "text/plain": [
       "Equation(a**(1/3), (b/c)**(1/3))"
      ]
     },
     "execution_count": 15,
     "metadata": {},
     "output_type": "execute_result"
    }
   ],
   "source": [
    "eq3.apply(root, 3)"
   ]
  },
  {
   "cell_type": "markdown",
   "id": "567e8c6a-9c7f-4ef0-8e3f-5d73e5631cef",
   "metadata": {},
   "source": [
    "Compute the second cubic root, only on the RHS:"
   ]
  },
  {
   "cell_type": "code",
   "execution_count": 16,
   "id": "877b7e31-e6c1-4e69-b879-51668e812409",
   "metadata": {},
   "outputs": [
    {
     "data": {
      "image/png": "[encoded data removed]",
      "text/latex": [
       "$\\displaystyle a = \\left(-1\\right)^{\\frac{2}{3}} \\sqrt[3]{\\frac{b}{c}}$"
      ],
      "text/plain": [
       "Equation(a, (-1)**(2/3)*(b/c)**(1/3))"
      ]
     },
     "execution_count": 16,
     "metadata": {},
     "output_type": "execute_result"
    }
   ],
   "source": [
    "eq3.applyrhs(root, 3, 1)"
   ]
  },
  {
   "cell_type": "markdown",
   "id": "e99d3a0c-cca9-44d4-b5a3-75eabad7df7d",
   "metadata": {},
   "source": [
    "Compute the third cubic root, only on the LHS:"
   ]
  },
  {
   "cell_type": "code",
   "execution_count": 17,
   "id": "4af330e2-68c3-4e61-a67e-93cd6a3fda1e",
   "metadata": {},
   "outputs": [
    {
     "data": {
      "image/png": "[encoded data removed]",
      "text/latex": [
       "$\\displaystyle - \\sqrt[3]{-1} \\sqrt[3]{a} = \\frac{b}{c}$"
      ],
      "text/plain": [
       "Equation(-(-1)**(1/3)*a**(1/3), b/c)"
      ]
     },
     "execution_count": 17,
     "metadata": {},
     "output_type": "execute_result"
    }
   ],
   "source": [
    "eq3.applylhs(root, 3, 2)"
   ]
  },
  {
   "cell_type": "markdown",
   "id": "2dacb1cc-3045-4717-b30f-a3a18582b3d1",
   "metadata": {},
   "source": [
    "Apply a custom function:"
   ]
  },
  {
   "cell_type": "code",
   "execution_count": 18,
   "id": "a9c879b1-0bc9-4ac5-853b-05e71b3476ce",
   "metadata": {},
   "outputs": [
    {
     "data": {
      "image/png": "[encoded data removed]",
      "text/latex": [
       "$\\displaystyle a^{2} + a = \\frac{b^{2}}{c^{2}} + \\frac{b}{c}$"
      ],
      "text/plain": [
       "Equation(a**2 + a, b**2/c**2 + b/c)"
      ]
     },
     "execution_count": 18,
     "metadata": {},
     "output_type": "execute_result"
    }
   ],
   "source": [
    "def add_square(expr):\n",
    "    return expr + expr**2\n",
    "\n",
    "eq3.apply(add_square)"
   ]
  },
  {
   "cell_type": "code",
   "execution_count": 19,
   "id": "19439886-dc0e-48e9-aa36-e95ab68d3ad3",
   "metadata": {},
   "outputs": [
    {
     "data": {
      "image/png": "[encoded data removed]",
      "text/latex": [
       "$\\displaystyle a^{2} + a = \\frac{b^{2}}{c^{2}} + \\frac{b}{c}$"
      ],
      "text/plain": [
       "Equation(a**2 + a, b**2/c**2 + b/c)"
      ]
     },
     "execution_count": 19,
     "metadata": {},
     "output_type": "execute_result"
    }
   ],
   "source": [
    "add_square(eq3)"
   ]
  },
  {
   "cell_type": "markdown",
   "id": "c602d469-33d1-4d96-aade-3f233e73bcd9",
   "metadata": {},
   "source": [
    "## Expression manipulation\n",
    "\n",
    "``factor(eq), simplify(eq), collect(eq)`` works on both sides of the ``Equation``. The same is true for ``eq.factor(), eq.simplify(), eq.collect()``."
   ]
  },
  {
   "cell_type": "code",
   "execution_count": 20,
   "id": "c93fde89-f2ce-430d-b26e-45e3ef8bccb4",
   "metadata": {},
   "outputs": [
    {
     "data": {
      "image/png": "[encoded data removed]",
      "text/latex": [
       "$\\displaystyle 2^{x^{2} + 2 x + 1} = x y^{2} + 2 x y$"
      ],
      "text/plain": [
       "Equation(2**(x**2 + 2*x + 1), x*y**2 + 2*x*y)"
      ]
     },
     "execution_count": 20,
     "metadata": {},
     "output_type": "execute_result"
    }
   ],
   "source": [
    "var(\"x, y\")\n",
    "eq4 = Eqn(2**(x**2 + 2*x + 1), x * y**2 + 2*y*x)\n",
    "eq4"
   ]
  },
  {
   "cell_type": "code",
   "execution_count": 21,
   "id": "fc10951d-abab-4806-8d03-9bf8a7898e7b",
   "metadata": {},
   "outputs": [
    {
     "data": {
      "image/png": "[encoded data removed]",
      "text/latex": [
       "$\\displaystyle 2^{x^{2} + 2 x + 1} = x y \\left(y + 2\\right)$"
      ],
      "text/plain": [
       "Equation(2**(x**2 + 2*x + 1), x*y*(y + 2))"
      ]
     },
     "execution_count": 21,
     "metadata": {},
     "output_type": "execute_result"
    }
   ],
   "source": [
    "eq4.factor()"
   ]
  },
  {
   "cell_type": "code",
   "execution_count": 22,
   "id": "393244c2-ef64-4159-a447-7bc7f97328e8",
   "metadata": {},
   "outputs": [
    {
     "data": {
      "image/png": "[encoded data removed]",
      "text/latex": [
       "$\\displaystyle 2^{\\left(x + 1\\right)^{2}} = x y \\left(y + 2\\right)$"
      ],
      "text/plain": [
       "Equation(2**((x + 1)**2), x*y*(y + 2))"
      ]
     },
     "execution_count": 22,
     "metadata": {},
     "output_type": "execute_result"
    }
   ],
   "source": [
    "eq4.factor(deep=True)"
   ]
  },
  {
   "cell_type": "code",
   "execution_count": 23,
   "id": "fa96389c-e03b-4163-914a-91b02afd8e28",
   "metadata": {},
   "outputs": [
    {
     "data": {
      "image/png": "[encoded data removed]",
      "text/latex": [
       "$\\displaystyle 2^{x \\left(x + 2\\right) + 1} = x y \\left(y + 2\\right)$"
      ],
      "text/plain": [
       "Equation(2**(x*(x + 2) + 1), x*y*(y + 2))"
      ]
     },
     "execution_count": 23,
     "metadata": {},
     "output_type": "execute_result"
    }
   ],
   "source": [
    "simplify(eq4)"
   ]
  },
  {
   "cell_type": "code",
   "execution_count": 24,
   "id": "eb51b0ce-ed8b-4158-92b4-3b8abdd53127",
   "metadata": {},
   "outputs": [
    {
     "data": {
      "image/png": "[encoded data removed]",
      "text/latex": [
       "$\\displaystyle 2^{x^{2} + 2 x + 1} = x \\left(y^{2} + 2 y\\right)$"
      ],
      "text/plain": [
       "Equation(2**(x**2 + 2*x + 1), x*(y**2 + 2*y))"
      ]
     },
     "execution_count": 24,
     "metadata": {},
     "output_type": "execute_result"
    }
   ],
   "source": [
    "eq4.collect(x)"
   ]
  },
  {
   "cell_type": "markdown",
   "id": "273e4a5a-2a94-431b-893d-08eb61fdd3f7",
   "metadata": {},
   "source": [
    "In addition to the ``apply(), applylhs(), applyrhs()`` methods, it is also possible to work directly on a specified side of the equation and perform a complex sequence of manipulations by chaining different methods of the ``Expr`` class. This can be done with the following machinery:\n",
    "\n",
    "* ``do``: work on both sides of the Equation.\n",
    "* ``dolhs``: work on the LHS.\n",
    "* ``dorhs``: work on the RHS.\n",
    "\n",
    "These are not attributes, in the sense that they don't return anything useful to the user. They are just machinery that allows to work on a particular side. For example:"
   ]
  },
  {
   "cell_type": "code",
   "execution_count": 25,
   "id": "f90e220a-96fa-4878-86c6-ae3557f0cd2c",
   "metadata": {},
   "outputs": [
    {
     "data": {
      "image/png": "[encoded data removed]",
      "text/latex": [
       "$\\displaystyle \\sin{\\left(x \\right)} = x - \\frac{x^{3}}{6} + \\frac{x^{5}}{120} + O\\left(x^{6}\\right)$"
      ],
      "text/plain": [
       "Equation(sin(x), x - x**3/6 + x**5/120 + O(x**6))"
      ]
     },
     "execution_count": 25,
     "metadata": {},
     "output_type": "execute_result"
    }
   ],
   "source": [
    "eq5 = Eqn(sin(x), series(sin(x), x, 0))\n",
    "eq5"
   ]
  },
  {
   "cell_type": "code",
   "execution_count": 26,
   "id": "9b6f96bf-1c9f-4577-987f-ce57503bd17d",
   "metadata": {},
   "outputs": [
    {
     "data": {
      "image/png": "[encoded data removed]",
      "text/latex": [
       "$\\displaystyle \\sin{\\left(x \\right)} = \\frac{x \\left(x^{4} - 20 x^{2} + 120\\right)}{120}$"
      ],
      "text/plain": [
       "Equation(sin(x), x*(x**4 - 20*x**2 + 120)/120)"
      ]
     },
     "execution_count": 26,
     "metadata": {},
     "output_type": "execute_result"
    }
   ],
   "source": [
    "eq5 = eq5.dorhs.removeO().factor()\n",
    "eq5"
   ]
  },
  {
   "cell_type": "code",
   "execution_count": 27,
   "id": "2f926c21-01a4-442f-84f3-d776d94d9477",
   "metadata": {},
   "outputs": [
    {
     "data": {
      "image/png": "[encoded data removed]",
      "text/plain": [
       "<Figure size 640x480 with 1 Axes>"
      ]
     },
     "metadata": {},
     "output_type": "display_data"
    },
    {
     "data": {
      "text/plain": [
       "<sympy.plotting.backends.matplotlibbackend.matplotlib.MatplotlibBackend at 0x75ea9b32b680>"
      ]
     },
     "execution_count": 27,
     "metadata": {},
     "output_type": "execute_result"
    }
   ],
   "source": [
    "plot(*eq5.args, (x, -pi, pi), legend=True)"
   ]
  },
  {
   "cell_type": "markdown",
   "id": "342aaf79-92bb-401c-b26f-c3e6e786256f",
   "metadata": {},
   "source": [
    "## Substitution and numerical evaluation"
   ]
  },
  {
   "cell_type": "markdown",
   "id": "fbe74963-317a-4238-85fc-b34704a5dd44",
   "metadata": {},
   "source": [
    "``Equation.subs()`` is just a wrapper to SymPy's ``Basic.subs()`` in order to make it aware of objects of type ``Equation``.\n",
    "\n",
    "* ``eq.subs(old, new)``\n",
    "* ``eq.subs([(old1, new1), (old2, new2), ...])``\n",
    "* ``eq.subs({old1: new1, old2: new2, ...})``\n",
    "* ``eq.subs(other_eq)``: here, ``other_eq.lhs`` is the old value to replace, while ``other_eq.rhs`` is the new value to use.\n",
    "* ``eq.subs(eq2, eq3)``: substitute multiple equations. Here, the order of the arguments is important."
   ]
  },
  {
   "cell_type": "code",
   "execution_count": 28,
   "id": "ad4e57a0-b1d6-4b0f-95de-57128c975c53",
   "metadata": {},
   "outputs": [
    {
     "data": {
      "image/png": "[encoded data removed]",
      "text/latex": [
       "$\\displaystyle p = \\frac{R T n}{V}$"
      ],
      "text/plain": [
       "Equation(p, R*T*n/V)"
      ]
     },
     "execution_count": 28,
     "metadata": {},
     "output_type": "execute_result"
    }
   ],
   "source": [
    "var(\"p V n R T\")\n",
    "ideal_gas_law = Eqn(p * V, n * R * T)\n",
    "pressure = ideal_gas_law / V\n",
    "pressure"
   ]
  },
  {
   "cell_type": "code",
   "execution_count": 29,
   "id": "20cefc2a-ae27-4325-9f5d-689525c44191",
   "metadata": {},
   "outputs": [
    {
     "data": {
      "image/png": "[encoded data removed]",
      "text/latex": [
       "$\\displaystyle p = 0.9334325 atm$"
      ],
      "text/plain": [
       "Equation(p, 0.9334325*atm)"
      ]
     },
     "execution_count": 29,
     "metadata": {},
     "output_type": "execute_result"
    }
   ],
   "source": [
    "var(\"L atm mol K\") # units\n",
    "d = {R: 0.08206*L*atm/mol/K, T: 273*K, V: 24*L, n: 1*mol}\n",
    "pressure.subs(d)"
   ]
  },
  {
   "cell_type": "code",
   "execution_count": 30,
   "id": "2a4ecc73-47a1-4520-a668-ec0a349baaca",
   "metadata": {},
   "outputs": [
    {
     "data": {
      "image/png": "[encoded data removed]",
      "text/latex": [
       "$\\displaystyle p = 0.933 atm$"
      ],
      "text/plain": [
       "Equation(p, 0.933*atm)"
      ]
     },
     "execution_count": 30,
     "metadata": {},
     "output_type": "execute_result"
    }
   ],
   "source": [
    "pressure.evalf(subs=d, n=3)"
   ]
  },
  {
   "cell_type": "markdown",
   "id": "13cef021-56bf-4695-a39c-4a73768f0997",
   "metadata": {},
   "source": [
    "An example showing the substitution of an equation into another:"
   ]
  },
  {
   "cell_type": "code",
   "execution_count": 31,
   "id": "8f9c1996-f72c-408b-8a00-6db1f9277273",
   "metadata": {},
   "outputs": [
    {
     "data": {
      "image/png": "[encoded data removed]",
      "text/latex": [
       "$\\displaystyle a \\left(b + c\\right) = \\frac{b}{d}$"
      ],
      "text/plain": [
       "Equation(a*(b + c), b/d)"
      ]
     },
     "metadata": {},
     "output_type": "display_data"
    },
    {
     "data": {
      "image/png": "[encoded data removed]",
      "text/latex": [
       "$\\displaystyle b + c = 3 d$"
      ],
      "text/plain": [
       "Equation(b + c, 3*d)"
      ]
     },
     "metadata": {},
     "output_type": "display_data"
    }
   ],
   "source": [
    "var(\"a:d\")\n",
    "eq_a = Eqn(a * (b + c), b / d)\n",
    "eq_b = Eqn(b + c, 3 * d)\n",
    "display(eq_a, eq_b)"
   ]
  },
  {
   "cell_type": "code",
   "execution_count": 32,
   "id": "e54fa716-2e3f-4120-8fda-8eafdcecf2ea",
   "metadata": {},
   "outputs": [
    {
     "data": {
      "image/png": "[encoded data removed]",
      "text/latex": [
       "$\\displaystyle 3 a d = \\frac{b}{d}$"
      ],
      "text/plain": [
       "Equation(3*a*d, b/d)"
      ]
     },
     "execution_count": 32,
     "metadata": {},
     "output_type": "execute_result"
    }
   ],
   "source": [
    "eq_a.subs(eq_b)"
   ]
  },
  {
   "cell_type": "markdown",
   "id": "f7ba5430-c3ec-4a0c-b956-4a3b87b45a41",
   "metadata": {},
   "source": [
    "## Differentiation and Integration\n",
    "\n",
    "``diff(eq, *args, **kwargs)`` and ``integrate(eq, *args, **kwargs)`` works on both sides of the ``Equation``. The same is true for ``eq.diff(*args, **kwargs)`` and ``eq.integrate(*args, **kwargs)``.\n",
    "\n",
    "Use ``eq.applylhs`` or ``eq.applyrhs`` (or ``eq.dolhs, eq.dorhs``) to differentiate only one side of the equation."
   ]
  },
  {
   "cell_type": "code",
   "execution_count": 33,
   "id": "518da9e0-426a-4f82-b357-42cacc10d8dc",
   "metadata": {},
   "outputs": [
    {
     "data": {
      "image/png": "[encoded data removed]",
      "text/latex": [
       "$\\displaystyle a x^{2} y + b x y^{2} = - c + x y$"
      ],
      "text/plain": [
       "Equation(a*x**2*y + b*x*y**2, -c + x*y)"
      ]
     },
     "execution_count": 33,
     "metadata": {},
     "output_type": "execute_result"
    }
   ],
   "source": [
    "e = Eqn(a * x**2 * y + b * x * y**2, x*y - c)\n",
    "e"
   ]
  },
  {
   "cell_type": "code",
   "execution_count": 34,
   "id": "0a8eb8ad-f322-490b-a76b-21b10774e11b",
   "metadata": {},
   "outputs": [
    {
     "data": {
      "image/png": "[encoded data removed]",
      "text/latex": [
       "$\\displaystyle a x^{2} + 2 b x y = x$"
      ],
      "text/plain": [
       "Equation(a*x**2 + 2*b*x*y, x)"
      ]
     },
     "execution_count": 34,
     "metadata": {},
     "output_type": "execute_result"
    }
   ],
   "source": [
    "e.diff(y)"
   ]
  },
  {
   "cell_type": "code",
   "execution_count": 35,
   "id": "ca3a3315-4310-4f2e-a6c9-cf83c0767f6a",
   "metadata": {},
   "outputs": [
    {
     "data": {
      "image/png": "[encoded data removed]",
      "text/latex": [
       "$\\displaystyle 2 a y = 0$"
      ],
      "text/plain": [
       "Equation(2*a*y, 0)"
      ]
     },
     "execution_count": 35,
     "metadata": {},
     "output_type": "execute_result"
    }
   ],
   "source": [
    "e.diff(x, 2)"
   ]
  },
  {
   "cell_type": "code",
   "execution_count": 36,
   "id": "cdbc8d22-e168-4900-bc8a-3c61cc052a15",
   "metadata": {},
   "outputs": [
    {
     "data": {
      "image/png": "[encoded data removed]",
      "text/latex": [
       "$\\displaystyle \\frac{3 a x^{2}}{2} + \\frac{7 b x}{3} = - c + \\frac{3 x}{2}$"
      ],
      "text/plain": [
       "Equation(3*a*x**2/2 + 7*b*x/3, -c + 3*x/2)"
      ]
     },
     "execution_count": 36,
     "metadata": {},
     "output_type": "execute_result"
    }
   ],
   "source": [
    "e.integrate((y, 1, 2))"
   ]
  },
  {
   "cell_type": "code",
   "execution_count": 37,
   "id": "c6ae7cd7-770d-45bc-a6d0-94411f0ce16e",
   "metadata": {},
   "outputs": [
    {
     "data": {
      "image/png": "[encoded data removed]",
      "text/latex": [
       "$\\displaystyle 2 a x y + b y^{2} = - c + x y$"
      ],
      "text/plain": [
       "Equation(2*a*x*y + b*y**2, -c + x*y)"
      ]
     },
     "execution_count": 37,
     "metadata": {},
     "output_type": "execute_result"
    }
   ],
   "source": [
    "e.applylhs(diff, x)"
   ]
  },
  {
   "cell_type": "code",
   "execution_count": 38,
   "id": "0cc5cfde-ea2e-4134-adec-b52b35616cab",
   "metadata": {},
   "outputs": [
    {
     "data": {
      "image/png": "[encoded data removed]",
      "text/latex": [
       "$\\displaystyle a x^{2} y + b x y^{2} = x$"
      ],
      "text/plain": [
       "Equation(a*x**2*y + b*x*y**2, x)"
      ]
     },
     "execution_count": 38,
     "metadata": {},
     "output_type": "execute_result"
    }
   ],
   "source": [
    "e.dorhs.diff(y)"
   ]
  },
  {
   "cell_type": "code",
   "execution_count": 39,
   "id": "f5954f83-b536-4314-ae82-b3009bff907c",
   "metadata": {},
   "outputs": [
    {
     "data": {
      "image/png": "[encoded data removed]",
      "text/latex": [
       "$\\displaystyle a x^{2} y + b x y^{2} = - c x + \\frac{x^{2} y}{2}$"
      ],
      "text/plain": [
       "Equation(a*x**2*y + b*x*y**2, -c*x + x**2*y/2)"
      ]
     },
     "execution_count": 39,
     "metadata": {},
     "output_type": "execute_result"
    }
   ],
   "source": [
    "e.dorhs.integrate(x)"
   ]
  },
  {
   "cell_type": "markdown",
   "id": "ab76be3f-b00b-4daa-9033-c6718dc29d56",
   "metadata": {},
   "source": [
    "## Attributes and Methods\n",
    "\n",
    "* ``eq.swap``: swap the LHS with RHS.\n",
    "* ``eq.cross_multiply()``\n",
    "* ``eq.as_expr()``: convert the ``Equation`` to a symbolic expression by writing ``LHS - RHS``.\n",
    "* ``eq.as_Boolean()``: convert the ``Equation`` to a SymPy's ``Equality`` (which does not support mathematical operations).\n",
    "* ``eq.check()``: verify if the LHS is mathematically equivalent to the RHS."
   ]
  },
  {
   "cell_type": "code",
   "execution_count": 40,
   "id": "874d824b-a1ef-48ac-93f3-ba4f38dda0b3",
   "metadata": {},
   "outputs": [
    {
     "data": {
      "image/png": "[encoded data removed]",
      "text/latex": [
       "$\\displaystyle \\frac{a}{b} = \\frac{c}{d}$"
      ],
      "text/plain": [
       "Equation(a/b, c/d)"
      ]
     },
     "execution_count": 40,
     "metadata": {},
     "output_type": "execute_result"
    }
   ],
   "source": [
    "var(\"a:d\")\n",
    "e = Eqn(a/b, c/d)\n",
    "e"
   ]
  },
  {
   "cell_type": "code",
   "execution_count": 41,
   "id": "a1848ec2-ed65-41a0-bd55-34da5c24b3f6",
   "metadata": {},
   "outputs": [
    {
     "data": {
      "image/png": "[encoded data removed]",
      "text/latex": [
       "$\\displaystyle \\frac{c}{d} = \\frac{a}{b}$"
      ],
      "text/plain": [
       "Equation(c/d, a/b)"
      ]
     },
     "execution_count": 41,
     "metadata": {},
     "output_type": "execute_result"
    }
   ],
   "source": [
    "e.swap"
   ]
  },
  {
   "cell_type": "code",
   "execution_count": 42,
   "id": "08973172-d3fe-425c-8690-1e01c04fe923",
   "metadata": {},
   "outputs": [
    {
     "data": {
      "image/png": "[encoded data removed]",
      "text/latex": [
       "$\\displaystyle a d = b c$"
      ],
      "text/plain": [
       "Equation(a*d, b*c)"
      ]
     },
     "execution_count": 42,
     "metadata": {},
     "output_type": "execute_result"
    }
   ],
   "source": [
    "e.cross_multiply()"
   ]
  },
  {
   "cell_type": "code",
   "execution_count": 43,
   "id": "7e456320-06d6-4dda-b94d-0b24ec6bbe2d",
   "metadata": {},
   "outputs": [
    {
     "data": {
      "image/png": "[encoded data removed]",
      "text/latex": [
       "$\\displaystyle \\frac{a}{b} - \\frac{c}{d}$"
      ],
      "text/plain": [
       "a   c\n",
       "─ - ─\n",
       "b   d"
      ]
     },
     "execution_count": 43,
     "metadata": {},
     "output_type": "execute_result"
    }
   ],
   "source": [
    "e.as_expr()"
   ]
  },
  {
   "cell_type": "code",
   "execution_count": 44,
   "id": "df040ad9-91b8-46cd-a1a4-07482c61916e",
   "metadata": {},
   "outputs": [
    {
     "name": "stdout",
     "output_type": "stream",
     "text": [
      "<class 'sympy.core.relational.Equality'>\n"
     ]
    },
    {
     "data": {
      "image/png": "[encoded data removed]",
      "text/latex": [
       "$\\displaystyle \\frac{a}{b} = \\frac{c}{d}$"
      ],
      "text/plain": [
       "a   c\n",
       "─ = ─\n",
       "b   d"
      ]
     },
     "execution_count": 44,
     "metadata": {},
     "output_type": "execute_result"
    }
   ],
   "source": [
    "equality = e.as_Boolean()\n",
    "print(type(equality))\n",
    "equality"
   ]
  },
  {
   "cell_type": "markdown",
   "id": "a3916e9e-1c6e-48bb-94ea-9e7ea19d4b54",
   "metadata": {},
   "source": [
    "Note that there is nothing stopping us from writing \"wrong\" equations. For example:"
   ]
  },
  {
   "cell_type": "code",
   "execution_count": 45,
   "id": "a98f38fe-dd0c-416f-b841-b007b2afc264",
   "metadata": {},
   "outputs": [
    {
     "data": {
      "image/png": "[encoded data removed]",
      "text/latex": [
       "$\\displaystyle 0 = 1$"
      ],
      "text/plain": [
       "Equation(0, 1)"
      ]
     },
     "execution_count": 45,
     "metadata": {},
     "output_type": "execute_result"
    }
   ],
   "source": [
    "f = Eqn(0, 1)\n",
    "f"
   ]
  },
  {
   "cell_type": "markdown",
   "id": "7683fa5b-0c4e-4e60-81b9-fe287b8bd407",
   "metadata": {},
   "source": [
    "To verify if the two sides are mathematically equivalent let's execute:"
   ]
  },
  {
   "cell_type": "code",
   "execution_count": 46,
   "id": "fd84d214-0b66-449b-96c3-818b20410a33",
   "metadata": {},
   "outputs": [
    {
     "data": {
      "image/png": "[encoded data removed]",
      "text/latex": [
       "$\\displaystyle \\text{False}$"
      ],
      "text/plain": [
       "False"
      ]
     },
     "execution_count": 46,
     "metadata": {},
     "output_type": "execute_result"
    }
   ],
   "source": [
    "f.check()"
   ]
  },
  {
   "cell_type": "markdown",
   "id": "157c1028-9200-4308-b6a5-2c67fb013d7c",
   "metadata": {},
   "source": [
    "If the equivalence can't be determited, an object of type ``Equality`` will be returned:"
   ]
  },
  {
   "cell_type": "code",
   "execution_count": 47,
   "id": "036758a4-190d-4b0f-b3e1-0a44d8aef474",
   "metadata": {},
   "outputs": [
    {
     "name": "stdout",
     "output_type": "stream",
     "text": [
      "<class 'sympy.core.relational.Equality'>\n"
     ]
    },
    {
     "data": {
      "image/png": "[encoded data removed]",
      "text/latex": [
       "$\\displaystyle \\frac{a}{b} = \\frac{c}{d}$"
      ],
      "text/plain": [
       "a   c\n",
       "─ = ─\n",
       "b   d"
      ]
     },
     "execution_count": 47,
     "metadata": {},
     "output_type": "execute_result"
    }
   ],
   "source": [
    "res = e.check()\n",
    "print(type(res))\n",
    "res"
   ]
  },
  {
   "cell_type": "markdown",
   "id": "11a76d46-3d73-4d01-89d9-acf378b0df44",
   "metadata": {},
   "source": [
    "## Solving equations"
   ]
  },
  {
   "cell_type": "markdown",
   "id": "4b9a46b7-a600-4015-8858-ecb32f924661",
   "metadata": {},
   "source": [
    "If one or more objects of type ``Equation`` are provided to ``solve()``, then the output will contains object of the same type:"
   ]
  },
  {
   "cell_type": "code",
   "execution_count": 48,
   "id": "336b7ba7-da64-4384-9a2d-ddc6312cb900",
   "metadata": {},
   "outputs": [
    {
     "data": {
      "image/png": "[encoded data removed]",
      "text/latex": [
       "$\\displaystyle a x^{2} = - b c - c$"
      ],
      "text/plain": [
       "Equation(a*x**2, -b*c - c)"
      ]
     },
     "execution_count": 48,
     "metadata": {},
     "output_type": "execute_result"
    }
   ],
   "source": [
    "e = Eqn(a*x**2, -b*c - c)\n",
    "e"
   ]
  },
  {
   "cell_type": "code",
   "execution_count": 49,
   "id": "d9e9b453-d9e5-4b4f-96a1-69915468e50b",
   "metadata": {},
   "outputs": [
    {
     "data": {
      "image/png": "[encoded data removed]",
      "text/latex": [
       "$\\displaystyle \\left[ x = - \\sqrt{- \\frac{c \\left(b + 1\\right)}{a}}, \\  x = \\sqrt{- \\frac{c \\left(b + 1\\right)}{a}}\\right]$"
      ],
      "text/plain": [
       "[x = -sqrt(-c*(b + 1)/a), x = sqrt(-c*(b + 1)/a)]"
      ]
     },
     "execution_count": 49,
     "metadata": {},
     "output_type": "execute_result"
    }
   ],
   "source": [
    "solve(e, x)"
   ]
  },
  {
   "cell_type": "markdown",
   "id": "3bf6ca98-9412-409a-b439-c05d703b0387",
   "metadata": {},
   "source": [
    "Differently, if equations are converted to expressions, than ``solve()`` will behave exactly like SymPy's ``solve()``:"
   ]
  },
  {
   "cell_type": "code",
   "execution_count": 50,
   "id": "cf57a01e-99d2-4b19-b5a0-d463aadf2421",
   "metadata": {},
   "outputs": [
    {
     "data": {
      "image/png": "[encoded data removed]",
      "text/latex": [
       "$\\displaystyle \\left[ - \\sqrt{- \\frac{c \\left(b + 1\\right)}{a}}, \\  \\sqrt{- \\frac{c \\left(b + 1\\right)}{a}}\\right]$"
      ],
      "text/plain": [
       "⎡     _____________      _____________⎤\n",
       "⎢    ╱ -c⋅(b + 1)       ╱ -c⋅(b + 1)  ⎥\n",
       "⎢-  ╱  ─────────── ,   ╱  ─────────── ⎥\n",
       "⎣ ╲╱        a        ╲╱        a      ⎦"
      ]
     },
     "execution_count": 50,
     "metadata": {},
     "output_type": "execute_result"
    }
   ],
   "source": [
    "solve(e.as_expr(), x)"
   ]
  },
  {
   "cell_type": "markdown",
   "id": "a7fc7a16-32f1-4893-aaed-7e9ff1c897bb",
   "metadata": {},
   "source": [
    "Solving multiple equations:"
   ]
  },
  {
   "cell_type": "code",
   "execution_count": 51,
   "id": "a976b4d1-0448-4ede-81f3-11fb7cbf4186",
   "metadata": {},
   "outputs": [
    {
     "data": {
      "image/png": "[encoded data removed]",
      "text/latex": [
       "$\\displaystyle \\left[ \\left[ x = \\frac{1}{2}, \\  y = -6\\right], \\  \\left[ x = 2, \\  y = 0\\right]\\right]$"
      ],
      "text/plain": [
       "[[x = 1/2, y = -6], [x = 2, y = 0]]"
      ]
     },
     "execution_count": 51,
     "metadata": {},
     "output_type": "execute_result"
    }
   ],
   "source": [
    "e1 = Eqn(x**2 * y, -2 + x)\n",
    "e2 = Eqn(y**2 * x, -3 * y)\n",
    "solve([e1, e2], [x, y])"
   ]
  },
  {
   "cell_type": "code",
   "execution_count": 52,
   "id": "6a54bca0-c3b9-4a20-8225-d09d0ac55bf7",
   "metadata": {},
   "outputs": [
    {
     "data": {
      "image/png": "[encoded data removed]",
      "text/latex": [
       "$\\displaystyle \\left[ \\left( \\frac{1}{2}, \\  -6\\right), \\  \\left( 2, \\  0\\right)\\right]$"
      ],
      "text/plain": [
       "[(1/2, -6), (2, 0)]"
      ]
     },
     "execution_count": 52,
     "metadata": {},
     "output_type": "execute_result"
    }
   ],
   "source": [
    "solve([e.as_expr() for e in [e1, e2]], [x, y])"
   ]
  },
  {
   "cell_type": "code",
   "execution_count": 53,
   "id": "14e4585d-78d3-48e3-928e-ea4256a21831",
   "metadata": {},
   "outputs": [
    {
     "data": {
      "image/png": "[encoded data removed]",
      "text/latex": [
       "$\\displaystyle \\left[ \\left\\{ x : \\frac{1}{2}, \\  y : -6\\right\\}, \\  \\left\\{ x : 2, \\  y : 0\\right\\}\\right]$"
      ],
      "text/plain": [
       "[{x: 1/2, y: -6}, {x: 2, y: 0}]"
      ]
     },
     "execution_count": 53,
     "metadata": {},
     "output_type": "execute_result"
    }
   ],
   "source": [
    "solve([e.as_expr() for e in [e1, e2]], [x, y], dict=True)"
   ]
  },
  {
   "cell_type": "markdown",
   "id": "c97f0cc8-7767-49a1-9d3a-05d42beb775d",
   "metadata": {},
   "source": [
    "## Configuration options\n",
    "\n",
    "``equation_config`` is an object containing a few properties to customize the behaviour of the module:"
   ]
  },
  {
   "cell_type": "code",
   "execution_count": 54,
   "id": "f5e8edc7-b04b-4b1f-a2ff-525f2017b6c8",
   "metadata": {},
   "outputs": [],
   "source": [
    "from sympy_equation import equation_config"
   ]
  },
  {
   "cell_type": "markdown",
   "id": "2cda00c1-3e3a-47df-8a21-867de4e3b106",
   "metadata": {},
   "source": [
    "Arguably the most useful options are :\n",
    "\n",
    "* ``equation_config.show_label``\n",
    "* ``equation_config.integers_as_exact``"
   ]
  },
  {
   "cell_type": "markdown",
   "id": "3980a450-e267-435c-8313-19a8bd087cd5",
   "metadata": {},
   "source": [
    "### Hide/Show the equation label\n",
    "\n",
    "By default, the equation's label will be hidden:"
   ]
  },
  {
   "cell_type": "code",
   "execution_count": 55,
   "id": "cb9e3d98-4b9c-48a9-8d29-285b2eb6692c",
   "metadata": {},
   "outputs": [
    {
     "data": {
      "text/plain": [
       "False"
      ]
     },
     "execution_count": 55,
     "metadata": {},
     "output_type": "execute_result"
    }
   ],
   "source": [
    "equation_config.show_label"
   ]
  },
  {
   "cell_type": "code",
   "execution_count": 56,
   "id": "f9c9a771-f484-440d-88ef-2b1657ed2b86",
   "metadata": {},
   "outputs": [
    {
     "data": {
      "image/png": "[encoded data removed]",
      "text/latex": [
       "$\\displaystyle \\frac{a}{b} = \\frac{c}{d}$"
      ],
      "text/plain": [
       "Equation(a/b, c/d)"
      ]
     },
     "execution_count": 56,
     "metadata": {},
     "output_type": "execute_result"
    }
   ],
   "source": [
    "var(\"a:d\")\n",
    "e = Eqn(a / b, c / d)\n",
    "e"
   ]
  },
  {
   "cell_type": "markdown",
   "id": "a1799d3c-65d8-47dc-ae0d-ee7561770130",
   "metadata": {},
   "source": [
    "When it's True, a label with the name of the equation in the python environment will be shown on the screen."
   ]
  },
  {
   "cell_type": "code",
   "execution_count": 57,
   "id": "fd9faffc-35c3-4457-911e-f8e8cca3b881",
   "metadata": {},
   "outputs": [
    {
     "data": {
      "image/png": "[encoded data removed]",
      "text/latex": [
       "$\\displaystyle \\frac{a}{b} = \\frac{c}{d}\\qquad (e)$"
      ],
      "text/plain": [
       "Equation(a/b, c/d)"
      ]
     },
     "execution_count": 57,
     "metadata": {},
     "output_type": "execute_result"
    }
   ],
   "source": [
    "equation_config.show_label = True\n",
    "e"
   ]
  },
  {
   "cell_type": "markdown",
   "id": "52e6bbdf-5cf8-4633-a499-f7d182474731",
   "metadata": {},
   "source": [
    "### Integer as exact\n",
    "\n",
    "When it's True and we are running in an IPython/Jupyter environment, it preparses the content of a code line in order to convert integer numbers to sympy's Integer. In doing so, we can write 2/3, which will be converted to Integer(2)/Integer(3), which then SymPy converts to Rational(2, 3). If False, no preparsing is done, and Python evaluates 2/3 to 0.6666667, which will then be converted by SymPy to a Float."
   ]
  },
  {
   "cell_type": "code",
   "execution_count": 58,
   "id": "17921522-ce6f-4e66-8ccf-496de210f4e7",
   "metadata": {},
   "outputs": [
    {
     "data": {
      "text/plain": [
       "False"
      ]
     },
     "execution_count": 58,
     "metadata": {},
     "output_type": "execute_result"
    }
   ],
   "source": [
    "equation_config.integers_as_exact"
   ]
  },
  {
   "cell_type": "code",
   "execution_count": 59,
   "id": "6e9d7f64-790f-4f68-b606-d690fab70822",
   "metadata": {},
   "outputs": [
    {
     "data": {
      "image/png": "[encoded data removed]",
      "text/latex": [
       "$\\displaystyle a + 0.5 = b + 0.75\\qquad (e)$"
      ],
      "text/plain": [
       "Equation(a + 0.5, b + 0.75)"
      ]
     },
     "execution_count": 59,
     "metadata": {},
     "output_type": "execute_result"
    }
   ],
   "source": [
    "e = Eqn(a + 1 /2, b + 3 / 4)\n",
    "e"
   ]
  },
  {
   "cell_type": "code",
   "execution_count": 60,
   "id": "de08ad16-4357-41c2-b412-fb7cecd32e0b",
   "metadata": {},
   "outputs": [],
   "source": [
    "equation_config.integers_as_exact = True"
   ]
  },
  {
   "cell_type": "code",
   "execution_count": 61,
   "id": "09411306-2ec6-4718-8c87-fac6062ecc87",
   "metadata": {},
   "outputs": [
    {
     "data": {
      "image/png": "[encoded data removed]",
      "text/latex": [
       "$\\displaystyle a + \\frac{1}{2} = b + \\frac{3}{4}\\qquad (e)$"
      ],
      "text/plain": [
       "Equation(a + 1/2, b + 3/4)"
      ]
     },
     "execution_count": 61,
     "metadata": {},
     "output_type": "execute_result"
    }
   ],
   "source": [
    "e = Eqn(a + 1 /2, b + 3 / 4)\n",
    "e"
   ]
  },
  {
   "cell_type": "markdown",
   "id": "01bf8552-ba93-4445-ae0a-e154a68fb980",
   "metadata": {},
   "source": [
    "It is reccommended to set this options to ``True`` only when executing purely symbolic computations, not when using other numerical\n",
    "libraries, such as Numpy, because it will create hard to debug situations. Consider executing this: ``np.cos(np.pi / 4)``.\n",
    "If ``integers_as_exact = True``, this will raise an error because 4 is first replaced with sympy's Integer(4), then\n",
    "``np.pi / Integer(4)`` becomes a symbolic expression and ``np.cos`` is unable to evaluate it."
   ]
  },
  {
   "cell_type": "code",
   "execution_count": 62,
   "id": "c89f8daa-80fc-42ad-8c5f-0ffab7d8c060",
   "metadata": {},
   "outputs": [
    {
     "ename": "TypeError",
     "evalue": "loop of ufunc does not support argument 0 of type Float which has no callable cos method",
     "output_type": "error",
     "traceback": [
      "\u001b[0;31m---------------------------------------------------------------------------\u001b[0m",
      "\u001b[0;31mAttributeError\u001b[0m                            Traceback (most recent call last)",
      "\u001b[0;31mAttributeError\u001b[0m: 'Float' object has no attribute 'cos'",
      "\nThe above exception was the direct cause of the following exception:\n",
      "\u001b[0;31mTypeError\u001b[0m                                 Traceback (most recent call last)",
      "Cell \u001b[0;32mIn[62], line 3\u001b[0m\n\u001b[1;32m      1\u001b[0m \u001b[38;5;28;01mimport\u001b[39;00m\u001b[38;5;250m \u001b[39m\u001b[38;5;21;01mnumpy\u001b[39;00m\u001b[38;5;250m \u001b[39m\u001b[38;5;28;01mas\u001b[39;00m\u001b[38;5;250m \u001b[39m\u001b[38;5;21;01mnp\u001b[39;00m \n\u001b[0;32m----> 3\u001b[0m \u001b[43mnp\u001b[49m\u001b[43m \u001b[49m\u001b[38;5;241;43m.\u001b[39;49m\u001b[43mcos\u001b[49m\u001b[43m \u001b[49m\u001b[43m(\u001b[49m\u001b[43mnp\u001b[49m\u001b[43m \u001b[49m\u001b[38;5;241;43m.\u001b[39;49m\u001b[43mpi\u001b[49m\u001b[43m \u001b[49m\u001b[38;5;241;43m/\u001b[39;49m\u001b[43mInteger\u001b[49m\u001b[43m \u001b[49m\u001b[43m(\u001b[49m\u001b[38;5;241;43m4\u001b[39;49m\u001b[43m \u001b[49m\u001b[43m)\u001b[49m\u001b[43m)\u001b[49m\n",
      "\u001b[0;31mTypeError\u001b[0m: loop of ufunc does not support argument 0 of type Float which has no callable cos method"
     ]
    }
   ],
   "source": [
    "import numpy as np\n",
    "np.cos(np.pi / 4)"
   ]
  },
  {
   "cell_type": "markdown",
   "id": "3c043975-8021-4895-8b6f-9c6a1479dcc8",
   "metadata": {},
   "source": [
    "## Example 1\n",
    "\n",
    "Given the equations of the volume and mass of a cylindrical pressure vessel, rewrite the mass in terms of the volume and the ratio $L/D$.\n",
    "\n",
    "Parameters:\n",
    "* V: volume;\n",
    "* M: mass;\n",
    "* D: diameter;\n",
    "* p: pressure inside the vessel;\n",
    "* sigma: stress level on the thin walls;\n",
    "* rho: density of the material."
   ]
  },
  {
   "cell_type": "code",
   "execution_count": 63,
   "id": "abf1f2ee-1511-4801-a888-1d72797c6eef",
   "metadata": {},
   "outputs": [
    {
     "data": {
      "image/png": "[encoded data removed]",
      "text/latex": [
       "$\\displaystyle V = \\frac{\\pi D^{3}}{6} + \\frac{\\pi D^{2} L}{4}$"
      ],
      "text/plain": [
       "Equation(V, pi*D**3/6 + pi*D**2*L/4)"
      ]
     },
     "metadata": {},
     "output_type": "display_data"
    },
    {
     "data": {
      "image/png": "[encoded data removed]",
      "text/latex": [
       "$\\displaystyle M = \\frac{\\pi D^{2} p \\rho \\left(\\frac{D}{2} + L\\right)}{2 \\sigma}$"
      ],
      "text/plain": [
       "Equation(M, pi*D**2*p*rho*(D/2 + L)/(2*sigma))"
      ]
     },
     "metadata": {},
     "output_type": "display_data"
    }
   ],
   "source": [
    "equation_config.show_label = False\n",
    "var(\"D, L, V, M, rho, p, sigma\")\n",
    "Veq = Eqn(V, pi * D**3 / 6 + pi * D**2 * L / 4)\n",
    "Meq = Eqn(M, pi * D**2 * rho * p / (2 * sigma) * (L + D / 2))\n",
    "display(Veq, Meq)"
   ]
  },
  {
   "cell_type": "code",
   "execution_count": 64,
   "id": "69815825-a1f0-42cf-b136-fb25b8af725d",
   "metadata": {},
   "outputs": [
    {
     "data": {
      "image/png": "[encoded data removed]",
      "text/latex": [
       "$\\displaystyle \\frac{V}{D^{3}} = \\pi \\left(\\frac{1}{6} + \\frac{L}{4 D}\\right)$"
      ],
      "text/plain": [
       "Equation(V/D**3, pi*(1/6 + L/(4*D)))"
      ]
     },
     "execution_count": 64,
     "metadata": {},
     "output_type": "execute_result"
    }
   ],
   "source": [
    "Veq = (Veq / D**3).expand().collect(pi)\n",
    "Veq"
   ]
  },
  {
   "cell_type": "code",
   "execution_count": 65,
   "id": "d9d6f371-517a-4215-92f3-01edb4ce78ec",
   "metadata": {},
   "outputs": [
    {
     "data": {
      "image/png": "[encoded data removed]",
      "text/latex": [
       "$\\displaystyle \\frac{M}{D^{3}} = \\frac{\\pi p \\rho \\left(\\frac{1}{4} + \\frac{L}{2 D}\\right)}{\\sigma}$"
      ],
      "text/plain": [
       "Equation(M/D**3, pi*p*rho*(1/4 + L/(2*D))/sigma)"
      ]
     },
     "execution_count": 65,
     "metadata": {},
     "output_type": "execute_result"
    }
   ],
   "source": [
    "Meq = (Meq / D**3).expand().collect(pi * rho * p / sigma)\n",
    "Meq"
   ]
  },
  {
   "cell_type": "code",
   "execution_count": 66,
   "id": "bc5f66c4-37f2-412b-aa03-f9918cc5eca7",
   "metadata": {},
   "outputs": [
    {
     "data": {
      "image/png": "[encoded data removed]",
      "text/latex": [
       "$\\displaystyle D^{3} = \\frac{V}{\\pi \\left(\\frac{1}{6} + \\frac{L}{4 D}\\right)}$"
      ],
      "text/plain": [
       "Equation(D**3, V/(pi*(1/6 + L/(4*D))))"
      ]
     },
     "execution_count": 66,
     "metadata": {},
     "output_type": "execute_result"
    }
   ],
   "source": [
    "# isolate D**3\n",
    "Veq = 1 / Veq * V\n",
    "Veq"
   ]
  },
  {
   "cell_type": "code",
   "execution_count": 67,
   "id": "616fe770-e67c-478c-8552-cf7c4216d39e",
   "metadata": {},
   "outputs": [
    {
     "data": {
      "image/png": "[encoded data removed]",
      "text/latex": [
       "$\\displaystyle M \\left(\\frac{1}{6} + \\frac{L}{4 D}\\right) = \\frac{V p \\rho \\left(\\frac{1}{4} + \\frac{L}{2 D}\\right)}{\\sigma}$"
      ],
      "text/plain": [
       "Equation(M*(1/6 + L/(4*D)), V*p*rho*(1/4 + L/(2*D))/sigma)"
      ]
     },
     "execution_count": 67,
     "metadata": {},
     "output_type": "execute_result"
    }
   ],
   "source": [
    "eq = Meq.subs(Veq).cross_multiply() / (pi * sigma)\n",
    "eq"
   ]
  },
  {
   "cell_type": "code",
   "execution_count": 68,
   "id": "3367005c-e71c-4ed1-b7df-8815bfc802d3",
   "metadata": {},
   "outputs": [
    {
     "data": {
      "image/png": "[encoded data removed]",
      "text/latex": [
       "$\\displaystyle M = \\frac{V p \\rho \\left(\\frac{1}{4} + \\frac{L}{2 D}\\right)}{\\sigma \\left(\\frac{1}{6} + \\frac{L}{4 D}\\right)}$"
      ],
      "text/plain": [
       "Equation(M, V*p*rho*(1/4 + L/(2*D))/(sigma*(1/6 + L/(4*D))))"
      ]
     },
     "execution_count": 68,
     "metadata": {},
     "output_type": "execute_result"
    }
   ],
   "source": [
    "res = eq / eq.lhs * M\n",
    "res"
   ]
  },
  {
   "cell_type": "markdown",
   "id": "ae24fca4-b2c9-438a-aa59-138957b40596",
   "metadata": {},
   "source": [
    "## Example 2\n",
    "\n",
    "Compute the angle $\\alpha$ as a function of the angles $\\beta, \\gamma$."
   ]
  },
  {
   "cell_type": "code",
   "execution_count": 69,
   "id": "196f02b6-d6de-4987-a726-fbd641e9e5f4",
   "metadata": {},
   "outputs": [
    {
     "data": {
      "image/png": "[encoded data removed]",
      "text/latex": [
       "$\\displaystyle \\sin{\\left(\\alpha \\right)} \\cos{\\left(\\beta \\right)} = \\sin{\\left(\\beta \\right)} \\cos{\\left(\\alpha \\right)} \\cos{\\left(\\gamma \\right)}$"
      ],
      "text/plain": [
       "Equation(sin(alpha)*cos(beta), sin(beta)*cos(alpha)*cos(gamma))"
      ]
     },
     "execution_count": 69,
     "metadata": {},
     "output_type": "execute_result"
    }
   ],
   "source": [
    "a, b, g = symbols(\"alpha beta gamma\")\n",
    "e = Eqn(sin(a) * cos(b), cos(a) * sin(b) * cos(g))\n",
    "e"
   ]
  },
  {
   "cell_type": "code",
   "execution_count": 70,
   "id": "0b46f14e-5ce8-4eed-bafc-67c2919a2090",
   "metadata": {},
   "outputs": [
    {
     "data": {
      "image/png": "[encoded data removed]",
      "text/latex": [
       "$\\displaystyle \\frac{\\sin{\\left(\\alpha \\right)}}{\\cos{\\left(\\alpha \\right)}} = \\frac{\\sin{\\left(\\beta \\right)} \\cos{\\left(\\gamma \\right)}}{\\cos{\\left(\\beta \\right)}}$"
      ],
      "text/plain": [
       "Equation(sin(alpha)/cos(alpha), sin(beta)*cos(gamma)/cos(beta))"
      ]
     },
     "execution_count": 70,
     "metadata": {},
     "output_type": "execute_result"
    }
   ],
   "source": [
    "e = e / cos(a) / cos(b)\n",
    "e"
   ]
  },
  {
   "cell_type": "code",
   "execution_count": 71,
   "id": "1636a94d-8c08-4ae0-9b22-99ad862a374a",
   "metadata": {},
   "outputs": [
    {
     "data": {
      "image/png": "[encoded data removed]",
      "text/latex": [
       "$\\displaystyle \\tan{\\left(\\alpha \\right)} = \\frac{\\sin{\\left(\\beta \\right)} \\cos{\\left(\\gamma \\right)}}{\\cos{\\left(\\beta \\right)}}$"
      ],
      "text/plain": [
       "Equation(tan(alpha), sin(beta)*cos(gamma)/cos(beta))"
      ]
     },
     "execution_count": 71,
     "metadata": {},
     "output_type": "execute_result"
    }
   ],
   "source": [
    "e = e.dolhs.simplify()\n",
    "e"
   ]
  },
  {
   "cell_type": "markdown",
   "id": "73fd0594-d83f-4a96-9fee-fddc254ad576",
   "metadata": {},
   "source": [
    "Assuming $-\\pi / 2 < \\alpha < \\pi / 2$:"
   ]
  },
  {
   "cell_type": "code",
   "execution_count": 72,
   "id": "fe13f4cc-c1f0-4487-b2ab-77f3f143b944",
   "metadata": {},
   "outputs": [
    {
     "data": {
      "image/png": "[encoded data removed]",
      "text/latex": [
       "$\\displaystyle \\alpha = \\operatorname{atan}_{2}{\\left(\\sin{\\left(\\beta \\right)} \\cos{\\left(\\gamma \\right)},\\cos{\\left(\\beta \\right)} \\right)}$"
      ],
      "text/plain": [
       "Equation(alpha, atan2(sin(beta)*cos(gamma), cos(beta)))"
      ]
     },
     "execution_count": 72,
     "metadata": {},
     "output_type": "execute_result"
    }
   ],
   "source": [
    "e = e.applylhs(lambda t: t.args[0]).applyrhs(lambda t: atan2(*fraction(t)))\n",
    "e"
   ]
  }
 ],
 "metadata": {
  "kernelspec": {
   "display_name": "Python 3 (ipykernel)",
   "language": "python",
   "name": "python3"
  },
  "language_info": {
   "codemirror_mode": {
    "name": "ipython",
    "version": 3
   },
   "file_extension": ".py",
   "mimetype": "text/x-python",
   "name": "python",
   "nbconvert_exporter": "python",
   "pygments_lexer": "ipython3",
   "version": "3.12.7"
  }
 },
 "nbformat": 4,
 "nbformat_minor": 5
}
